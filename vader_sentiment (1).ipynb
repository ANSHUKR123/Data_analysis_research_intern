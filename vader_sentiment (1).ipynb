{
  "cells": [
    {
      "cell_type": "code",
      "execution_count": 1,
      "metadata": {
        "colab": {
          "base_uri": "https://localhost:8080/"
        },
        "id": "s7LpmUy_msbt",
        "outputId": "407f5061-8108-45fd-bda1-3023985df412"
      },
      "outputs": [],
      "source": [
        "# !pip install vaderSentiment"
      ]
    },
    {
      "cell_type": "code",
      "execution_count": 2,
      "metadata": {
        "id": "fvieamgFmsbv"
      },
      "outputs": [],
      "source": [
        "import numpy as np\n",
        "import pandas as pd"
      ]
    },
    {
      "cell_type": "code",
      "execution_count": 3,
      "metadata": {
        "id": "qd9zbLWkmsbv"
      },
      "outputs": [],
      "source": [
        "# import SentimentIntensityAnalyzer class\n",
        "# from vaderSentiment.vaderSentiment module. \n",
        "from vaderSentiment.vaderSentiment import SentimentIntensityAnalyzer\n",
        "\n",
        "# function to print sentiments\n",
        "# of the sentence.\n",
        "def sentiment_scores(sentence):\n",
        "\n",
        "\t# Create a SentimentIntensityAnalyzer object.\n",
        "\tsid_obj = SentimentIntensityAnalyzer()\n",
        "\n",
        "\t# polarity_scores method of SentimentIntensityAnalyzer\n",
        "\t# object gives a sentiment dictionary.\n",
        "\t# which contains pos, neg, neu, and compound scores.\n",
        "\tsentiment_dict = sid_obj.polarity_scores(sentence)\n",
        "\t\n",
        "\treturn sentiment_dict\n",
        "\n"
      ]
    },
    {
      "cell_type": "code",
      "execution_count": 4,
      "metadata": {
        "colab": {
          "base_uri": "https://localhost:8080/"
        },
        "id": "50lcFnRRmsbw",
        "outputId": "21b10353-adce-4299-e2eb-7d6da2c16402"
      },
      "outputs": [],
      "source": [
        "df=pd.read_csv(\"C:\\data_analysis_RI\\\\raw_datewise_2020_vader.csv\")\n",
        "# df = df[0:1000000]\n"
      ]
    },
    {
      "cell_type": "code",
      "execution_count": 5,
      "metadata": {},
      "outputs": [
        {
          "data": {
            "text/plain": [
              "(8339653, 9)"
            ]
          },
          "execution_count": 5,
          "metadata": {},
          "output_type": "execute_result"
        }
      ],
      "source": [
        "df.shape"
      ]
    },
    {
      "cell_type": "code",
      "execution_count": 6,
      "metadata": {
        "colab": {
          "base_uri": "https://localhost:8080/"
        },
        "id": "yzC4Q0TLmxp8",
        "outputId": "8ba58acf-b504-4865-91ed-472c7d713693"
      },
      "outputs": [],
      "source": [
        "# from google.colab import drive\n",
        "# drive.mount('/content/drive')"
      ]
    },
    {
      "cell_type": "code",
      "execution_count": null,
      "metadata": {},
      "outputs": [],
      "source": []
    },
    {
      "cell_type": "code",
      "execution_count": 7,
      "metadata": {
        "id": "Imrlvt5Umsbw"
      },
      "outputs": [],
      "source": [
        "scores_pos=[]\n",
        "scores_neg=[]\n",
        "scores_neu=[]\n",
        "# scores_com=[]\n",
        "# count=0\n",
        "for tweet in df[\"Tweet\"]:\n",
        "  try:\n",
        "    sentiments=sentiment_scores(tweet)\n",
        "    scores_pos.append(sentiments['pos'])\n",
        "    scores_neg.append(sentiments['neg'])\n",
        "    scores_neu.append(sentiments['neu'])\n",
        "    # scores_com.append(sentiments['compound'])\n",
        "  except:\n",
        "    scores_pos.append(np.nan) \n",
        "    scores_neg.append(np.nan) \n",
        "    scores_neu.append(np.nan) \n",
        "    # scores_com.append(np.nan) \n",
        "  # count+=1    \n",
        "  # if count == 49:\n",
        "  #   break    \n",
        "df[\"vader_pos\"]=scores_pos\n",
        "df[\"vader_neg\"]=scores_neg\n",
        "# df[\"vader_com\"]=scores_com\n",
        "df[\"vader_neu\"]=scores_neu\n",
        "df.to_csv(\"C:\\data_analysis_RI\\\\raw_datewise_2020_new_vader.csv\")"
      ]
    },
    {
      "cell_type": "code",
      "execution_count": null,
      "metadata": {
        "id": "kmSbl51_e_1Y"
      },
      "outputs": [],
      "source": []
    }
  ],
  "metadata": {
    "colab": {
      "provenance": []
    },
    "kernelspec": {
      "display_name": "Python 3",
      "language": "python",
      "name": "python3"
    },
    "language_info": {
      "codemirror_mode": {
        "name": "ipython",
        "version": 3
      },
      "file_extension": ".py",
      "mimetype": "text/x-python",
      "name": "python",
      "nbconvert_exporter": "python",
      "pygments_lexer": "ipython3",
      "version": "3.11.2"
    },
    "orig_nbformat": 4,
    "vscode": {
      "interpreter": {
        "hash": "5384fce427ae9b4574fa5b5d3ec14c80a672dc379bac0769ab70d516d0438449"
      }
    }
  },
  "nbformat": 4,
  "nbformat_minor": 0
}
